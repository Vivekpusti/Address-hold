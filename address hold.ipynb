{
 "cells": [
  {
   "cell_type": "code",
   "execution_count": 1,
   "metadata": {},
   "outputs": [],
   "source": [
    "from tkinter import *"
   ]
  },
  {
   "cell_type": "code",
   "execution_count": 2,
   "metadata": {},
   "outputs": [],
   "source": [
    "root = Tk()\n",
    "root.geometry('400x400')\n",
    "root.config(bg = 'SlateGray3')\n",
    "root.resizable(0,0)\n",
    "root.title('Vivek_s-AddressBook')\n",
    "\n",
    "contactlist = [\n",
    "    ['Rishab',  '9119876543'],\n",
    "    ['Khushi Mehta',  '855525522'],\n",
    "    ['Gaurav Sharan',   '7541082355'],\n",
    "    ['Shubham Mishra','6834552341'],\n",
    "    ['Rahul kaushik',   '9234852689'],\n",
    "    ['Vivek Pusti' , '7992261630'],\n",
    "    ]\n",
    "\n",
    "Name = StringVar()\n",
    "Number = StringVar()\n",
    "\n",
    "frame = Frame(root)\n",
    "frame.pack(side = RIGHT)\n",
    "\n",
    "scroll = Scrollbar(frame, orient=VERTICAL)\n",
    "select = Listbox(frame, yscrollcommand=scroll.set, height=12)\n",
    "scroll.config (command=select.yview)\n",
    "scroll.pack(side=RIGHT, fill=Y)\n",
    "select.pack(side=LEFT,  fill=BOTH, expand=1)"
   ]
  },
  {
   "cell_type": "code",
   "execution_count": 3,
   "metadata": {},
   "outputs": [],
   "source": [
    "def Selected():\n",
    "    return int(select.curselection()[0])\n",
    "\n",
    "def AddContact():\n",
    "    contactlist.append([Name.get(), Number.get()])\n",
    "    Select_set()\n",
    "\n",
    "def EDIT():\n",
    "    contactlist[Selected()] = [Name.get(), Number.get()]\n",
    "    Select_set()\n",
    "\n",
    "\n",
    "def DELETE():\n",
    "    del contactlist[Selected()]\n",
    "    Select_set()\n",
    "\n",
    "def VIEW():\n",
    "    NAME, PHONE = contactlist[Selected()]\n",
    "    Name.set(NAME)\n",
    "    Number.set(PHONE)\n",
    "\n",
    "def EXIT():\n",
    "    root.destroy()\n",
    "\n",
    "def RESET():\n",
    "    Name.set('')\n",
    "    Number.set('')\n",
    "\n",
    "def Select_set() :\n",
    "    contactlist.sort()\n",
    "    select.delete(0,END)\n",
    "    for name,phone in contactlist :\n",
    "        select.insert (END, name)\n",
    "Select_set()"
   ]
  },
  {
   "cell_type": "code",
   "execution_count": 4,
   "metadata": {},
   "outputs": [],
   "source": [
    "Label(root, text = 'NAME', font='arial 12 bold', bg = 'SlateGray3').place(x= 30, y=20)\n",
    "Entry(root, textvariable = Name).place(x= 100, y=20)\n",
    "\n",
    "Label(root, text = 'PHONE NO.', font='arial 12 bold',bg = 'SlateGray3').place(x= 30, y=70)\n",
    "Entry(root, textvariable = Number).place(x= 130, y=70)\n",
    "\n",
    "Button(root,text=\" ADD\", font='arial 12 bold',bg='SlateGray4', command = AddContact).place(x= 50, y=110)\n",
    "Button(root,text=\"EDIT\", font='arial 12 bold',bg='SlateGray4',command = EDIT).place(x= 50, y=260)\n",
    "\n",
    "Button(root,text=\"DELETE\", font='arial 12 bold',bg='SlateGray4',command = DELETE).place(x= 50, y=210)\n",
    "Button(root,text=\"VIEW\", font='arial 12 bold',bg='SlateGray4', command = VIEW).place(x= 50, y=160)\n",
    "\n",
    "Button(root,text=\"EXIT\", font='arial 12 bold',bg='tomato', command = EXIT).place(x= 300, y=320)\n",
    "Button(root,text=\"RESET\", font='arial 12 bold',bg='SlateGray4', command = RESET).place(x= 50, y=310)\n",
    "\n",
    "root.mainloop()"
   ]
  },
  {
   "cell_type": "code",
   "execution_count": null,
   "metadata": {},
   "outputs": [],
   "source": []
  },
  {
   "cell_type": "code",
   "execution_count": null,
   "metadata": {},
   "outputs": [],
   "source": []
  },
  {
   "cell_type": "code",
   "execution_count": null,
   "metadata": {},
   "outputs": [],
   "source": []
  }
 ],
 "metadata": {
  "kernelspec": {
   "display_name": "Python 3",
   "language": "python",
   "name": "python3"
  },
  "language_info": {
   "codemirror_mode": {
    "name": "ipython",
    "version": 3
   },
   "file_extension": ".py",
   "mimetype": "text/x-python",
   "name": "python",
   "nbconvert_exporter": "python",
   "pygments_lexer": "ipython3",
   "version": "3.8.5"
  }
 },
 "nbformat": 4,
 "nbformat_minor": 4
}
